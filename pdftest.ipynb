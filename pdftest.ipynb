{
 "cells": [
  {
   "cell_type": "code",
   "execution_count": 1,
   "metadata": {},
   "outputs": [
    {
     "ename": "AttributeError",
     "evalue": "'NoneType' object has no attribute 'append'",
     "output_type": "error",
     "traceback": [
      "\u001b[1;31m---------------------------------------------------------------------------\u001b[0m",
      "\u001b[1;31mAttributeError\u001b[0m                            Traceback (most recent call last)",
      "Cell \u001b[1;32mIn[1], line 17\u001b[0m\n\u001b[0;32m     14\u001b[0m text \u001b[38;5;241m=\u001b[39m page\u001b[38;5;241m.\u001b[39mextract_text()\n\u001b[0;32m     15\u001b[0m table \u001b[38;5;241m=\u001b[39m page\u001b[38;5;241m.\u001b[39mextract_table()\n\u001b[1;32m---> 17\u001b[0m \u001b[43msheet\u001b[49m\u001b[38;5;241;43m.\u001b[39;49m\u001b[43mappend\u001b[49m([\u001b[38;5;124m'\u001b[39m\u001b[38;5;124mPage \u001b[39m\u001b[38;5;124m'\u001b[39m \u001b[38;5;241m+\u001b[39m \u001b[38;5;28mstr\u001b[39m(page\u001b[38;5;241m.\u001b[39mpage_number)]) \n\u001b[0;32m     18\u001b[0m sheet\u001b[38;5;241m.\u001b[39mappend([])\n\u001b[0;32m     20\u001b[0m sheet\u001b[38;5;241m.\u001b[39mappend([\u001b[38;5;124m'\u001b[39m\u001b[38;5;124mText\u001b[39m\u001b[38;5;124m'\u001b[39m])\n",
      "\u001b[1;31mAttributeError\u001b[0m: 'NoneType' object has no attribute 'append'"
     ]
    }
   ],
   "source": [
    "import pdfplumber\n",
    "pdf_path = r\"D:\\00 - 線損資料\\00-線損工作事項\\002_3_分析再生能源購電量\\000_再生能源購電系統抓資料(每月約5日才會出來)\\113\\B1Report08_2024-02-09-23-07-49.pdf\"\n",
    "\n",
    "import openpyxl\n",
    "\n",
    "excel_path = r\"D:\\00 - 線損資料\\00-線損工作事項\\002_3_分析再生能源購電量\\000_再生能源購電系統抓資料(每月約5日才會出來)\\113\\data.xlsx\"\n",
    "\n",
    "wb = openpyxl.Workbook(excel_path)\n",
    "\n",
    "sheet = wb.active\n",
    "\n",
    "with pdfplumber.open(pdf_path) as pdf:\n",
    "    for page in pdf.pages:\n",
    "        text = page.extract_text()\n",
    "        table = page.extract_table()\n",
    "        \n",
    "        sheet.append(['Page ' + str(page.page_number)]) \n",
    "        sheet.append([])\n",
    "\n",
    "        sheet.append(['Text'])\n",
    "        sheet.append([text])\n",
    "        sheet.append([])\n",
    "\n",
    "        if table:\n",
    "            sheet.append(['Table'])\n",
    "            sheet.append([])\n",
    "            headers = [cell.text for cell in table[0]]\n",
    "            sheet.append(headers)\n",
    "            \n",
    "            for row in table[1:]:\n",
    "                data = [cell.text for cell in row]\n",
    "                sheet.append(data)\n",
    "                \n",
    "            sheet.append([])\n",
    "        else:\n",
    "            # Skip table extraction if table is None\n",
    "            pass\n",
    "            \n",
    "wb.save(excel_path)\n"
   ]
  },
  {
   "cell_type": "code",
   "execution_count": 2,
   "metadata": {},
   "outputs": [
    {
     "name": "stdout",
     "output_type": "stream",
     "text": [
      "PDF 轉換 Excel 完成!\n"
     ]
    }
   ],
   "source": [
    "import pdfplumber\n",
    "import openpyxl\n",
    "\"\"\"\n",
    "將pdf檔轉換為文字檔並存到excel\n",
    "\"\"\"\n",
    "\n",
    "\n",
    "# PDF 報表路徑\n",
    "pdf_path = r\"D:\\00 - 線損資料\\00-線損工作事項\\002_3_分析再生能源購電量\\000_再生能源購電系統抓資料(每月約5日才會出來)\\113\\2月\\B1Report08_2024-03-05-23-09-27.pdf\"\n",
    "\n",
    "# 輸出 Excel 檔案路徑 \n",
    "excel_path = r\"D:\\00 - 線損資料\\00-線損工作事項\\002_3_分析再生能源購電量\\000_再生能源購電系統抓資料(每月約5日才會出來)\\113\\2月\\113_02_data.xlsx\"\n",
    "\n",
    "# 開啟 Excel 檔案\n",
    "wb = openpyxl.Workbook()\n",
    "sheet = wb.active\n",
    "\n",
    "# 開啟 PDF 報表  \n",
    "with pdfplumber.open(pdf_path) as pdf:\n",
    "    \n",
    "    # 迭代每頁\n",
    "    for page in pdf.pages: \n",
    "        \n",
    "        # 提取文字 \n",
    "        text = page.extract_text()  \n",
    "        \n",
    "        # 提取表格 (如果有的話)\n",
    "        table = page.extract_table()  \n",
    "        \n",
    "        # 寫入頁碼\n",
    "        sheet.append(['Page ' + str(page.page_number)])  \n",
    "        sheet.append([])\n",
    "\n",
    "        # 寫入文字 \n",
    "        sheet.append(['Text'])\n",
    "        sheet.append([text])  \n",
    "        sheet.append([])  \n",
    "         \n",
    "        # 寫入表格\n",
    "        if table:\n",
    "            headers = [str(cell) for cell in table[0]]\n",
    "            sheet.append(headers)\n",
    "            \n",
    "            for row in table[1:]:\n",
    "                data = [str(cell) for cell in row]\n",
    "                sheet.append(data)  \n",
    "                \n",
    "            sheet.append([])\n",
    "            \n",
    "# 儲存 Excel 檔案            \n",
    "wb.save(excel_path) \n",
    "\n",
    "print('PDF 轉換 Excel 完成!')\n"
   ]
  },
  {
   "cell_type": "code",
   "execution_count": 2,
   "metadata": {},
   "outputs": [],
   "source": [
    "#產出報表處理\n",
    "\n",
    "import xlwings as xw\n",
    "\n",
    "wb = xw.Book('data.xlsx')\n",
    "sheet = wb.sheets['Sheet']\n",
    "wb.app.screen_updating = False\n",
    "for row in range(7983, 18, -1): \n",
    "    # 從7127開始,向上檢查到18停止\n",
    "    cell_value = sheet.range('A' + str(row)).value\n",
    "    if not cell_value or \"Page\" in cell_value or \"Text\" in cell_value or \"113年\" in cell_value or \"再生能源\" in cell_value or \"None\" in cell_value:\n",
    "        sheet.api.Rows(row).Delete()\n",
    "\n",
    "wb.save()\n",
    "wb.app.screen_updating = True"
   ]
  },
  {
   "cell_type": "code",
   "execution_count": null,
   "metadata": {},
   "outputs": [],
   "source": []
  },
  {
   "cell_type": "code",
   "execution_count": 4,
   "metadata": {},
   "outputs": [
    {
     "name": "stdout",
     "output_type": "stream",
     "text": [
      "7127\n"
     ]
    }
   ],
   "source": [
    "#我想以xlwings，找出sheet (2)中最後一列\n",
    "import xlwings as xw\n",
    "wb = xw.Book('data.xlsx')\n",
    "sheet = wb.sheets['sheet (2)']\n",
    "last_row = sheet.range('A65535').end('up').row\n",
    "print(last_row)\n",
    "\n",
    "\n"
   ]
  },
  {
   "cell_type": "code",
   "execution_count": 16,
   "metadata": {},
   "outputs": [],
   "source": [
    "import xlwings as xw\n",
    "\n",
    "wb = xw.Book('data.xlsx')\n",
    "\n",
    "# 關閉screenupdating\n",
    "wb.app.screen_updating = False  \n",
    "\n",
    "\n",
    "sheet = wb.sheets['Sheet (3)']\n",
    "\n",
    "for row in range(7108, 18, -1): \n",
    "    # 從7127開始,向上檢查到18停止\n",
    "    cell_value = sheet.range('A' + str(row)).value\n",
    "    if not cell_value or \"Page\" in cell_value or \"Text\" in cell_value or \"113年\" in cell_value or \"再生能源\" in cell_value or \"None\" in cell_value:\n",
    "        try:\n",
    "            sheet.api.Rows(row).Delete()\n",
    "        except:\n",
    "\n",
    "            print(f\"第{row}有問題\")\n",
    "            wb.app.screen_updating = True\n",
    "            break\n",
    "\n",
    "       \n",
    "\n",
    "wb.save()\n",
    "wb.app.screen_updating = True"
   ]
  },
  {
   "cell_type": "code",
   "execution_count": 23,
   "metadata": {},
   "outputs": [
    {
     "ename": "TypeError",
     "evalue": "can only concatenate list (not \"int\") to list",
     "output_type": "error",
     "traceback": [
      "\u001b[1;31m---------------------------------------------------------------------------\u001b[0m",
      "\u001b[1;31mTypeError\u001b[0m                                 Traceback (most recent call last)",
      "Cell \u001b[1;32mIn[23], line 38\u001b[0m\n\u001b[0;32m     36\u001b[0m \u001b[38;5;28;01mfor\u001b[39;00m r_index, row \u001b[38;5;129;01min\u001b[39;00m \u001b[38;5;28menumerate\u001b[39m(table[\u001b[38;5;241m1\u001b[39m:]):\n\u001b[0;32m     37\u001b[0m     \u001b[38;5;28;01mfor\u001b[39;00m c_index, cell_value \u001b[38;5;129;01min\u001b[39;00m \u001b[38;5;28menumerate\u001b[39m(row):\n\u001b[1;32m---> 38\u001b[0m         sheet\u001b[38;5;241m.\u001b[39mcell(row\u001b[38;5;241m=\u001b[39m\u001b[43mrow\u001b[49m\u001b[38;5;241;43m+\u001b[39;49m\u001b[43mr_index\u001b[49m\u001b[38;5;241m+\u001b[39m\u001b[38;5;241m2\u001b[39m,column\u001b[38;5;241m=\u001b[39mc_index\u001b[38;5;241m+\u001b[39m\u001b[38;5;241m1\u001b[39m)\u001b[38;5;241m.\u001b[39mvalue \u001b[38;5;241m=\u001b[39m \u001b[38;5;28mstr\u001b[39m(cell_value)\n\u001b[0;32m     40\u001b[0m \u001b[38;5;66;03m# 跳兩行\u001b[39;00m\n\u001b[0;32m     41\u001b[0m row \u001b[38;5;241m+\u001b[39m\u001b[38;5;241m=\u001b[39m \u001b[38;5;28mlen\u001b[39m(table) \u001b[38;5;241m+\u001b[39m \u001b[38;5;241m2\u001b[39m  \n",
      "\u001b[1;31mTypeError\u001b[0m: can only concatenate list (not \"int\") to list"
     ]
    }
   ],
   "source": [
    "import pdfplumber\n",
    "import openpyxl\n",
    "\n",
    "# PDF 報表路徑  \n",
    "pdf_path = '123.pdf'\n",
    "\n",
    "# 開啟 Excel 檔案\n",
    "wb = openpyxl.Workbook()  \n",
    "sheet = wb.active\n",
    "   \n",
    "# 設定起始列  \n",
    "row = 1\n",
    "\n",
    "# 開啟 PDF 報表 \n",
    "with pdfplumber.open(pdf_path) as pdf:\n",
    "   \n",
    "    # 迭代每頁  \n",
    "    for page in pdf.pages:\n",
    "       \n",
    "        # 提取表格  \n",
    "        table = page.extract_table()  \n",
    "   \n",
    "        # 如果無表格則跳過 \n",
    "        if not table:  \n",
    "            continue\n",
    "   \n",
    "        # 寫入頁碼 \n",
    "        sheet.cell(row=row,column=1).value = f\"Page {page.page_number}\"\n",
    "   \n",
    "        # 寫入表頭  \n",
    "        headers = list(map(str, table[0]))\n",
    "        for col_index, cell_value in enumerate(headers):\n",
    "            sheet.cell(row=row+1,column=col_index+1).value = cell_value\n",
    "   \n",
    "        # 寫入資料   \n",
    "        for r_index, row in enumerate(table[1:]):\n",
    "            for c_index, cell_value in enumerate(row):\n",
    "                sheet.cell(row=row+r_index+2,column=c_index+1).value = str(cell_value)\n",
    "        \n",
    "        # 跳兩行\n",
    "        row += len(table) + 2  \n",
    "\n",
    "# 儲存 Excel\n",
    "wb.save(excel_path)   \n",
    "\n",
    "print('PDF 轉換 Excel 完成!')"
   ]
  },
  {
   "cell_type": "code",
   "execution_count": 30,
   "metadata": {},
   "outputs": [
    {
     "ename": "KeyboardInterrupt",
     "evalue": "",
     "output_type": "error",
     "traceback": [
      "\u001b[1;31m---------------------------------------------------------------------------\u001b[0m",
      "\u001b[1;31mKeyboardInterrupt\u001b[0m                         Traceback (most recent call last)",
      "Cell \u001b[1;32mIn[30], line 15\u001b[0m\n\u001b[0;32m     12\u001b[0m         row_index \u001b[38;5;241m=\u001b[39m row[\u001b[38;5;241m0\u001b[39m]\n\u001b[0;32m     14\u001b[0m         row_address \u001b[38;5;241m=\u001b[39m \u001b[38;5;124m'\u001b[39m\u001b[38;5;124mI\u001b[39m\u001b[38;5;124m'\u001b[39m \u001b[38;5;241m+\u001b[39m \u001b[38;5;28mstr\u001b[39m(row_index) \n\u001b[1;32m---> 15\u001b[0m         \u001b[43msht\u001b[49m\u001b[38;5;241;43m.\u001b[39;49m\u001b[43mrange\u001b[49m\u001b[43m(\u001b[49m\u001b[43mrow_address\u001b[49m\u001b[43m)\u001b[49m\u001b[38;5;241;43m.\u001b[39;49m\u001b[43mvalue\u001b[49m \u001b[38;5;241m=\u001b[39m int_value\n\u001b[0;32m     20\u001b[0m wb\u001b[38;5;241m.\u001b[39msave()\n",
      "File \u001b[1;32mc:\\Users\\C036039\\AppData\\Local\\Programs\\Python\\Python312\\Lib\\site-packages\\xlwings\\main.py:2411\u001b[0m, in \u001b[0;36mRange.value\u001b[1;34m(self, data)\u001b[0m\n\u001b[0;32m   2409\u001b[0m \u001b[38;5;129m@value\u001b[39m\u001b[38;5;241m.\u001b[39msetter\n\u001b[0;32m   2410\u001b[0m \u001b[38;5;28;01mdef\u001b[39;00m \u001b[38;5;21mvalue\u001b[39m(\u001b[38;5;28mself\u001b[39m, data):\n\u001b[1;32m-> 2411\u001b[0m     \u001b[43mconversion\u001b[49m\u001b[38;5;241;43m.\u001b[39;49m\u001b[43mwrite\u001b[49m\u001b[43m(\u001b[49m\u001b[43mdata\u001b[49m\u001b[43m,\u001b[49m\u001b[43m \u001b[49m\u001b[38;5;28;43mself\u001b[39;49m\u001b[43m,\u001b[49m\u001b[43m \u001b[49m\u001b[38;5;28;43mself\u001b[39;49m\u001b[38;5;241;43m.\u001b[39;49m\u001b[43m_options\u001b[49m\u001b[43m)\u001b[49m\n",
      "File \u001b[1;32mc:\\Users\\C036039\\AppData\\Local\\Programs\\Python\\Python312\\Lib\\site-packages\\xlwings\\conversion\\__init__.py:102\u001b[0m, in \u001b[0;36mwrite\u001b[1;34m(value, rng, options, engine_name)\u001b[0m\n\u001b[0;32m     98\u001b[0m pipeline \u001b[38;5;241m=\u001b[39m (\n\u001b[0;32m     99\u001b[0m     accessors\u001b[38;5;241m.\u001b[39mget(convert, convert)\u001b[38;5;241m.\u001b[39mrouter(value, rng, options)\u001b[38;5;241m.\u001b[39mwriter(options)\n\u001b[0;32m    100\u001b[0m )\n\u001b[0;32m    101\u001b[0m ctx \u001b[38;5;241m=\u001b[39m ConversionContext(rng\u001b[38;5;241m=\u001b[39mrng, value\u001b[38;5;241m=\u001b[39mvalue, engine_name\u001b[38;5;241m=\u001b[39mengine_name)\n\u001b[1;32m--> 102\u001b[0m \u001b[43mpipeline\u001b[49m\u001b[43m(\u001b[49m\u001b[43mctx\u001b[49m\u001b[43m)\u001b[49m\n\u001b[0;32m    103\u001b[0m \u001b[38;5;28;01mreturn\u001b[39;00m ctx\u001b[38;5;241m.\u001b[39mvalue\n",
      "File \u001b[1;32mc:\\Users\\C036039\\AppData\\Local\\Programs\\Python\\Python312\\Lib\\site-packages\\xlwings\\conversion\\framework.py:79\u001b[0m, in \u001b[0;36mPipeline.__call__\u001b[1;34m(self, *args, **kwargs)\u001b[0m\n\u001b[0;32m     77\u001b[0m \u001b[38;5;28;01mdef\u001b[39;00m \u001b[38;5;21m__call__\u001b[39m(\u001b[38;5;28mself\u001b[39m, \u001b[38;5;241m*\u001b[39margs, \u001b[38;5;241m*\u001b[39m\u001b[38;5;241m*\u001b[39mkwargs):\n\u001b[0;32m     78\u001b[0m     \u001b[38;5;28;01mfor\u001b[39;00m stage \u001b[38;5;129;01min\u001b[39;00m \u001b[38;5;28mself\u001b[39m:\n\u001b[1;32m---> 79\u001b[0m         \u001b[43mstage\u001b[49m\u001b[43m(\u001b[49m\u001b[38;5;241;43m*\u001b[39;49m\u001b[43margs\u001b[49m\u001b[43m,\u001b[49m\u001b[43m \u001b[49m\u001b[38;5;241;43m*\u001b[39;49m\u001b[38;5;241;43m*\u001b[39;49m\u001b[43mkwargs\u001b[49m\u001b[43m)\u001b[49m\n",
      "File \u001b[1;32mc:\\Users\\C036039\\AppData\\Local\\Programs\\Python\\Python312\\Lib\\site-packages\\xlwings\\conversion\\standard.py:75\u001b[0m, in \u001b[0;36mWriteValueToRangeStage.__call__\u001b[1;34m(self, ctx)\u001b[0m\n\u001b[0;32m     72\u001b[0m \u001b[38;5;28;01mif\u001b[39;00m \u001b[38;5;129;01mnot\u001b[39;00m scalar:\n\u001b[0;32m     73\u001b[0m     ctx\u001b[38;5;241m.\u001b[39mrange \u001b[38;5;241m=\u001b[39m ctx\u001b[38;5;241m.\u001b[39mrange\u001b[38;5;241m.\u001b[39mresize(\u001b[38;5;28mlen\u001b[39m(ctx\u001b[38;5;241m.\u001b[39mvalue), \u001b[38;5;28mlen\u001b[39m(ctx\u001b[38;5;241m.\u001b[39mvalue[\u001b[38;5;241m0\u001b[39m]))\n\u001b[1;32m---> 75\u001b[0m \u001b[38;5;28;43mself\u001b[39;49m\u001b[38;5;241;43m.\u001b[39;49m\u001b[43m_write_value\u001b[49m\u001b[43m(\u001b[49m\u001b[43mctx\u001b[49m\u001b[38;5;241;43m.\u001b[39;49m\u001b[43mrange\u001b[49m\u001b[43m,\u001b[49m\u001b[43m \u001b[49m\u001b[43mctx\u001b[49m\u001b[38;5;241;43m.\u001b[39;49m\u001b[43mvalue\u001b[49m\u001b[43m,\u001b[49m\u001b[43m \u001b[49m\u001b[43mscalar\u001b[49m\u001b[43m)\u001b[49m\n",
      "File \u001b[1;32mc:\\Users\\C036039\\AppData\\Local\\Programs\\Python\\Python312\\Lib\\site-packages\\xlwings\\conversion\\standard.py:63\u001b[0m, in \u001b[0;36mWriteValueToRangeStage._write_value\u001b[1;34m(self, rng, value, scalar)\u001b[0m\n\u001b[0;32m     59\u001b[0m         rng[\n\u001b[0;32m     60\u001b[0m             ix \u001b[38;5;241m*\u001b[39m chunksize : ix \u001b[38;5;241m*\u001b[39m chunksize \u001b[38;5;241m+\u001b[39m chunksize, :\n\u001b[0;32m     61\u001b[0m         ]\u001b[38;5;241m.\u001b[39mraw_value \u001b[38;5;241m=\u001b[39m value_chunk\n\u001b[0;32m     62\u001b[0m \u001b[38;5;28;01melse\u001b[39;00m:\n\u001b[1;32m---> 63\u001b[0m     \u001b[43mrng\u001b[49m\u001b[38;5;241;43m.\u001b[39;49m\u001b[43mraw_value\u001b[49m \u001b[38;5;241m=\u001b[39m value\n",
      "File \u001b[1;32mc:\\Users\\C036039\\AppData\\Local\\Programs\\Python\\Python312\\Lib\\site-packages\\xlwings\\main.py:1973\u001b[0m, in \u001b[0;36mRange.raw_value\u001b[1;34m(self, data)\u001b[0m\n\u001b[0;32m   1971\u001b[0m \u001b[38;5;129m@raw_value\u001b[39m\u001b[38;5;241m.\u001b[39msetter\n\u001b[0;32m   1972\u001b[0m \u001b[38;5;28;01mdef\u001b[39;00m \u001b[38;5;21mraw_value\u001b[39m(\u001b[38;5;28mself\u001b[39m, data):\n\u001b[1;32m-> 1973\u001b[0m     \u001b[38;5;28;43mself\u001b[39;49m\u001b[38;5;241;43m.\u001b[39;49m\u001b[43mimpl\u001b[49m\u001b[38;5;241;43m.\u001b[39;49m\u001b[43mraw_value\u001b[49m \u001b[38;5;241m=\u001b[39m data\n",
      "File \u001b[1;32mc:\\Users\\C036039\\AppData\\Local\\Programs\\Python\\Python312\\Lib\\site-packages\\xlwings\\_xlwindows.py:1209\u001b[0m, in \u001b[0;36mRange.raw_value\u001b[1;34m(self, data)\u001b[0m\n\u001b[0;32m   1206\u001b[0m \u001b[38;5;129m@raw_value\u001b[39m\u001b[38;5;241m.\u001b[39msetter\n\u001b[0;32m   1207\u001b[0m \u001b[38;5;28;01mdef\u001b[39;00m \u001b[38;5;21mraw_value\u001b[39m(\u001b[38;5;28mself\u001b[39m, data):\n\u001b[0;32m   1208\u001b[0m     \u001b[38;5;28;01mif\u001b[39;00m \u001b[38;5;28mself\u001b[39m\u001b[38;5;241m.\u001b[39mxl \u001b[38;5;129;01mis\u001b[39;00m \u001b[38;5;129;01mnot\u001b[39;00m \u001b[38;5;28;01mNone\u001b[39;00m:\n\u001b[1;32m-> 1209\u001b[0m         \u001b[38;5;28;43mself\u001b[39;49m\u001b[38;5;241;43m.\u001b[39;49m\u001b[43mxl\u001b[49m\u001b[38;5;241;43m.\u001b[39;49m\u001b[43mValue\u001b[49m \u001b[38;5;241m=\u001b[39m data\n",
      "File \u001b[1;32mc:\\Users\\C036039\\AppData\\Local\\Programs\\Python\\Python312\\Lib\\site-packages\\xlwings\\_xlwindows.py:161\u001b[0m, in \u001b[0;36mCOMRetryObjectWrapper.__setattr__\u001b[1;34m(self, key, value)\u001b[0m\n\u001b[0;32m    159\u001b[0m \u001b[38;5;28;01mwhile\u001b[39;00m \u001b[38;5;28;01mTrue\u001b[39;00m:\n\u001b[0;32m    160\u001b[0m     \u001b[38;5;28;01mtry\u001b[39;00m:\n\u001b[1;32m--> 161\u001b[0m         \u001b[38;5;28;01mreturn\u001b[39;00m \u001b[38;5;28;43msetattr\u001b[39;49m\u001b[43m(\u001b[49m\u001b[38;5;28;43mself\u001b[39;49m\u001b[38;5;241;43m.\u001b[39;49m\u001b[43m_inner\u001b[49m\u001b[43m,\u001b[49m\u001b[43m \u001b[49m\u001b[43mkey\u001b[49m\u001b[43m,\u001b[49m\u001b[43m \u001b[49m\u001b[43mvalue\u001b[49m\u001b[43m)\u001b[49m\n\u001b[0;32m    162\u001b[0m     \u001b[38;5;28;01mexcept\u001b[39;00m pywintypes\u001b[38;5;241m.\u001b[39mcom_error \u001b[38;5;28;01mas\u001b[39;00m e:\n\u001b[0;32m    163\u001b[0m         hresult, msg, exc, arg \u001b[38;5;241m=\u001b[39m e\u001b[38;5;241m.\u001b[39margs\n",
      "File \u001b[1;32mc:\\Users\\C036039\\AppData\\Local\\Programs\\Python\\Python312\\Lib\\site-packages\\win32com\\client\\__init__.py:597\u001b[0m, in \u001b[0;36mDispatchBaseClass.__setattr__\u001b[1;34m(self, attr, value)\u001b[0m\n\u001b[0;32m    593\u001b[0m \u001b[38;5;28;01mexcept\u001b[39;00m \u001b[38;5;167;01mKeyError\u001b[39;00m:\n\u001b[0;32m    594\u001b[0m     \u001b[38;5;28;01mraise\u001b[39;00m \u001b[38;5;167;01mAttributeError\u001b[39;00m(\n\u001b[0;32m    595\u001b[0m         \u001b[38;5;124m\"\u001b[39m\u001b[38;5;124m'\u001b[39m\u001b[38;5;132;01m%s\u001b[39;00m\u001b[38;5;124m'\u001b[39m\u001b[38;5;124m object has no attribute \u001b[39m\u001b[38;5;124m'\u001b[39m\u001b[38;5;132;01m%s\u001b[39;00m\u001b[38;5;124m'\u001b[39m\u001b[38;5;124m\"\u001b[39m \u001b[38;5;241m%\u001b[39m (\u001b[38;5;28mrepr\u001b[39m(\u001b[38;5;28mself\u001b[39m), attr)\n\u001b[0;32m    596\u001b[0m     )\n\u001b[1;32m--> 597\u001b[0m \u001b[38;5;28;43mself\u001b[39;49m\u001b[38;5;241;43m.\u001b[39;49m\u001b[43m_oleobj_\u001b[49m\u001b[38;5;241;43m.\u001b[39;49m\u001b[43mInvoke\u001b[49m\u001b[43m(\u001b[49m\u001b[38;5;241;43m*\u001b[39;49m\u001b[43m(\u001b[49m\u001b[43margs\u001b[49m\u001b[43m \u001b[49m\u001b[38;5;241;43m+\u001b[39;49m\u001b[43m \u001b[49m\u001b[43m(\u001b[49m\u001b[43mvalue\u001b[49m\u001b[43m,\u001b[49m\u001b[43m)\u001b[49m\u001b[43m \u001b[49m\u001b[38;5;241;43m+\u001b[39;49m\u001b[43m \u001b[49m\u001b[43mdefArgs\u001b[49m\u001b[43m)\u001b[49m\u001b[43m)\u001b[49m\n",
      "\u001b[1;31mKeyboardInterrupt\u001b[0m: "
     ]
    }
   ],
   "source": [
    "import xlwings as xw\n",
    "\n",
    "wb = xw.Book('data.xlsx')\n",
    "sht = wb.sheets['Sheet (4)']\n",
    "\n",
    "for row in sht.range('I8:I3956').value:\n",
    "    if type(row) is str: \n",
    "        # 替換逗號為空字串\n",
    "        row = row.replace(\",\", \"\")  \n",
    "        int_value = int(row)\n",
    "\n",
    "        row_index = row[0]\n",
    "\n",
    "        row_address = 'I' + str(row_index) \n",
    "        sht.range(row_address).value = int_value\n",
    "       \n",
    "\n",
    "\n",
    "\n",
    "wb.save()"
   ]
  }
 ],
 "metadata": {
  "kernelspec": {
   "display_name": "Python 3",
   "language": "python",
   "name": "python3"
  },
  "language_info": {
   "codemirror_mode": {
    "name": "ipython",
    "version": 3
   },
   "file_extension": ".py",
   "mimetype": "text/x-python",
   "name": "python",
   "nbconvert_exporter": "python",
   "pygments_lexer": "ipython3",
   "version": "3.12.1"
  }
 },
 "nbformat": 4,
 "nbformat_minor": 2
}
